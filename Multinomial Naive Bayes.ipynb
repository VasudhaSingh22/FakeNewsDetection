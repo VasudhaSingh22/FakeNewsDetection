{
 "cells": [
  {
   "cell_type": "markdown",
   "id": "f9e78c35",
   "metadata": {},
   "source": [
    "## Multinomial Naive Bayes:\n",
    "\n",
    "`MultinomialNB` is a class in the `scikit-learn` library, which stands for \"Multinomial Naive Bayes.\" \n",
    " - It is a variant of the Naive Bayes algorithm that is particularly suitable for working with discrete data, such as word counts, bag-of-words representations, and other frequency-based features. \n",
    " - The Multinomial Naive Bayes algorithm is based on Bayes' theorem and assumes that the features are conditionally independent given the class label. \n",
    " - MultinomialNB calculates the likelihood of each feature occurring in each class and combines it with the prior probability of each class to make predictions. \n",
    " - Despite its simplifying assumptions, MultinomialNB can be effective for high-dimensional feature spaces and is efficient in both training and prediction.\n",
    "\n",
    "It is commonly used for text classification tasks, where the feature vectors represent word counts or term frequencies. It is also commonly used in text classification tasks like spam detection, sentiment analysis, and fake news detection.\n"
   ]
  },
  {
   "cell_type": "code",
   "execution_count": 1,
   "id": "41e2e3d5",
   "metadata": {},
   "outputs": [],
   "source": [
    "import numpy as np\n",
    "import pandas as pd\n",
    "import seaborn as sns\n",
    "import matplotlib.pyplot as plt\n",
    "from nltk.corpus import stopwords\n",
    "# stopwords is a collection of common words that are considered to have \n",
    "# little or no meaning in the context of natural language processing \n",
    "# tasks, such as text classification, sentiment analysis & information retrieval.\n",
    "from nltk.stem.porter import PorterStemmer\n",
    "# The main purpose of the PorterStemmer is to normalize words by \n",
    "# removing common suffixes to obtain their base form.\n",
    "import re\n",
    "# With the re module, you can perform various operations on strings, \n",
    "# such as searching, matching, replacing, and splitting based on \n",
    "# specific patterns. Regular expressions are especially useful in tasks \n",
    "# involving text preprocessing, data cleaning, and pattern extraction.\n",
    "from sklearn.feature_extraction.text import CountVectorizer, TfidfVectorizer, HashingVectorizer\n",
    "# CountVectorizer is a text preprocessing tool that transforms \n",
    "# raw text data into a matrix of token counts, representing the \n",
    "# frequency of each word (token) in the documents.\n",
    "# TfidfVectorizer stands for Term Frequency-Inverse Document Frequency \n",
    "# Vectorizer. It is similar to CountVectorizer but takes into account \n",
    "# the importance of words in each document relative to the entire corpus.\n",
    "# Words that appear frequently in a specific document but rarely in \n",
    "# other documents are given higher weights.\n",
    "# HashingVectorizer is another feature extraction technique that uses \n",
    "# a hashing trick to convert text data into fixed-size vectors.\n",
    "from sklearn.model_selection import train_test_split\n",
    "from sklearn.utils import shuffle\n",
    "from sklearn.naive_bayes import MultinomialNB\n",
    "from sklearn import metrics\n",
    "import warnings\n",
    "warnings.filterwarnings(\"ignore\")"
   ]
  },
  {
   "cell_type": "code",
   "execution_count": 2,
   "id": "ecd74007",
   "metadata": {},
   "outputs": [
    {
     "data": {
      "text/html": [
       "<div>\n",
       "<style scoped>\n",
       "    .dataframe tbody tr th:only-of-type {\n",
       "        vertical-align: middle;\n",
       "    }\n",
       "\n",
       "    .dataframe tbody tr th {\n",
       "        vertical-align: top;\n",
       "    }\n",
       "\n",
       "    .dataframe thead th {\n",
       "        text-align: right;\n",
       "    }\n",
       "</style>\n",
       "<table border=\"1\" class=\"dataframe\">\n",
       "  <thead>\n",
       "    <tr style=\"text-align: right;\">\n",
       "      <th></th>\n",
       "      <th>title</th>\n",
       "      <th>text</th>\n",
       "      <th>subject</th>\n",
       "      <th>date</th>\n",
       "    </tr>\n",
       "  </thead>\n",
       "  <tbody>\n",
       "    <tr>\n",
       "      <th>0</th>\n",
       "      <td>Donald Trump Sends Out Embarrassing New Year’...</td>\n",
       "      <td>Donald Trump just couldn t wish all Americans ...</td>\n",
       "      <td>News</td>\n",
       "      <td>December 31, 2017</td>\n",
       "    </tr>\n",
       "    <tr>\n",
       "      <th>1</th>\n",
       "      <td>Drunk Bragging Trump Staffer Started Russian ...</td>\n",
       "      <td>House Intelligence Committee Chairman Devin Nu...</td>\n",
       "      <td>News</td>\n",
       "      <td>December 31, 2017</td>\n",
       "    </tr>\n",
       "    <tr>\n",
       "      <th>2</th>\n",
       "      <td>Sheriff David Clarke Becomes An Internet Joke...</td>\n",
       "      <td>On Friday, it was revealed that former Milwauk...</td>\n",
       "      <td>News</td>\n",
       "      <td>December 30, 2017</td>\n",
       "    </tr>\n",
       "    <tr>\n",
       "      <th>3</th>\n",
       "      <td>Trump Is So Obsessed He Even Has Obama’s Name...</td>\n",
       "      <td>On Christmas day, Donald Trump announced that ...</td>\n",
       "      <td>News</td>\n",
       "      <td>December 29, 2017</td>\n",
       "    </tr>\n",
       "    <tr>\n",
       "      <th>4</th>\n",
       "      <td>Pope Francis Just Called Out Donald Trump Dur...</td>\n",
       "      <td>Pope Francis used his annual Christmas Day mes...</td>\n",
       "      <td>News</td>\n",
       "      <td>December 25, 2017</td>\n",
       "    </tr>\n",
       "  </tbody>\n",
       "</table>\n",
       "</div>"
      ],
      "text/plain": [
       "                                               title  \\\n",
       "0   Donald Trump Sends Out Embarrassing New Year’...   \n",
       "1   Drunk Bragging Trump Staffer Started Russian ...   \n",
       "2   Sheriff David Clarke Becomes An Internet Joke...   \n",
       "3   Trump Is So Obsessed He Even Has Obama’s Name...   \n",
       "4   Pope Francis Just Called Out Donald Trump Dur...   \n",
       "\n",
       "                                                text subject  \\\n",
       "0  Donald Trump just couldn t wish all Americans ...    News   \n",
       "1  House Intelligence Committee Chairman Devin Nu...    News   \n",
       "2  On Friday, it was revealed that former Milwauk...    News   \n",
       "3  On Christmas day, Donald Trump announced that ...    News   \n",
       "4  Pope Francis used his annual Christmas Day mes...    News   \n",
       "\n",
       "                date  \n",
       "0  December 31, 2017  \n",
       "1  December 31, 2017  \n",
       "2  December 30, 2017  \n",
       "3  December 29, 2017  \n",
       "4  December 25, 2017  "
      ]
     },
     "execution_count": 2,
     "metadata": {},
     "output_type": "execute_result"
    }
   ],
   "source": [
    "fake = pd.read_csv('Fake.csv')\n",
    "true = pd.read_csv('True.csv')\n",
    "fake.head()"
   ]
  },
  {
   "cell_type": "code",
   "execution_count": 3,
   "id": "c2f19bf2",
   "metadata": {},
   "outputs": [
    {
     "data": {
      "text/html": [
       "<div>\n",
       "<style scoped>\n",
       "    .dataframe tbody tr th:only-of-type {\n",
       "        vertical-align: middle;\n",
       "    }\n",
       "\n",
       "    .dataframe tbody tr th {\n",
       "        vertical-align: top;\n",
       "    }\n",
       "\n",
       "    .dataframe thead th {\n",
       "        text-align: right;\n",
       "    }\n",
       "</style>\n",
       "<table border=\"1\" class=\"dataframe\">\n",
       "  <thead>\n",
       "    <tr style=\"text-align: right;\">\n",
       "      <th></th>\n",
       "      <th>title</th>\n",
       "      <th>text</th>\n",
       "      <th>subject</th>\n",
       "      <th>date</th>\n",
       "    </tr>\n",
       "  </thead>\n",
       "  <tbody>\n",
       "    <tr>\n",
       "      <th>0</th>\n",
       "      <td>As U.S. budget fight looms, Republicans flip t...</td>\n",
       "      <td>WASHINGTON (Reuters) - The head of a conservat...</td>\n",
       "      <td>politicsNews</td>\n",
       "      <td>December 31, 2017</td>\n",
       "    </tr>\n",
       "    <tr>\n",
       "      <th>1</th>\n",
       "      <td>U.S. military to accept transgender recruits o...</td>\n",
       "      <td>WASHINGTON (Reuters) - Transgender people will...</td>\n",
       "      <td>politicsNews</td>\n",
       "      <td>December 29, 2017</td>\n",
       "    </tr>\n",
       "    <tr>\n",
       "      <th>2</th>\n",
       "      <td>Senior U.S. Republican senator: 'Let Mr. Muell...</td>\n",
       "      <td>WASHINGTON (Reuters) - The special counsel inv...</td>\n",
       "      <td>politicsNews</td>\n",
       "      <td>December 31, 2017</td>\n",
       "    </tr>\n",
       "    <tr>\n",
       "      <th>3</th>\n",
       "      <td>FBI Russia probe helped by Australian diplomat...</td>\n",
       "      <td>WASHINGTON (Reuters) - Trump campaign adviser ...</td>\n",
       "      <td>politicsNews</td>\n",
       "      <td>December 30, 2017</td>\n",
       "    </tr>\n",
       "    <tr>\n",
       "      <th>4</th>\n",
       "      <td>Trump wants Postal Service to charge 'much mor...</td>\n",
       "      <td>SEATTLE/WASHINGTON (Reuters) - President Donal...</td>\n",
       "      <td>politicsNews</td>\n",
       "      <td>December 29, 2017</td>\n",
       "    </tr>\n",
       "  </tbody>\n",
       "</table>\n",
       "</div>"
      ],
      "text/plain": [
       "                                               title  \\\n",
       "0  As U.S. budget fight looms, Republicans flip t...   \n",
       "1  U.S. military to accept transgender recruits o...   \n",
       "2  Senior U.S. Republican senator: 'Let Mr. Muell...   \n",
       "3  FBI Russia probe helped by Australian diplomat...   \n",
       "4  Trump wants Postal Service to charge 'much mor...   \n",
       "\n",
       "                                                text       subject  \\\n",
       "0  WASHINGTON (Reuters) - The head of a conservat...  politicsNews   \n",
       "1  WASHINGTON (Reuters) - Transgender people will...  politicsNews   \n",
       "2  WASHINGTON (Reuters) - The special counsel inv...  politicsNews   \n",
       "3  WASHINGTON (Reuters) - Trump campaign adviser ...  politicsNews   \n",
       "4  SEATTLE/WASHINGTON (Reuters) - President Donal...  politicsNews   \n",
       "\n",
       "                 date  \n",
       "0  December 31, 2017   \n",
       "1  December 29, 2017   \n",
       "2  December 31, 2017   \n",
       "3  December 30, 2017   \n",
       "4  December 29, 2017   "
      ]
     },
     "execution_count": 3,
     "metadata": {},
     "output_type": "execute_result"
    }
   ],
   "source": [
    "true.head()"
   ]
  },
  {
   "cell_type": "code",
   "execution_count": 4,
   "id": "6205e38f",
   "metadata": {},
   "outputs": [],
   "source": [
    "fake['Label'] = 0\n",
    "true['Label'] = 1"
   ]
  },
  {
   "cell_type": "markdown",
   "id": "abf16e2e",
   "metadata": {},
   "source": [
    "### Data Preprocessing:"
   ]
  },
  {
   "cell_type": "code",
   "execution_count": 5,
   "id": "f3388408",
   "metadata": {},
   "outputs": [
    {
     "name": "stdout",
     "output_type": "stream",
     "text": [
      "(4000, 5)\n"
     ]
    },
    {
     "data": {
      "text/html": [
       "<div>\n",
       "<style scoped>\n",
       "    .dataframe tbody tr th:only-of-type {\n",
       "        vertical-align: middle;\n",
       "    }\n",
       "\n",
       "    .dataframe tbody tr th {\n",
       "        vertical-align: top;\n",
       "    }\n",
       "\n",
       "    .dataframe thead th {\n",
       "        text-align: right;\n",
       "    }\n",
       "</style>\n",
       "<table border=\"1\" class=\"dataframe\">\n",
       "  <thead>\n",
       "    <tr style=\"text-align: right;\">\n",
       "      <th></th>\n",
       "      <th>title</th>\n",
       "      <th>text</th>\n",
       "      <th>subject</th>\n",
       "      <th>date</th>\n",
       "      <th>Label</th>\n",
       "    </tr>\n",
       "  </thead>\n",
       "  <tbody>\n",
       "    <tr>\n",
       "      <th>0</th>\n",
       "      <td>Former Director Of National Intelligence Says...</td>\n",
       "      <td>James Clapper, the Director of National Intell...</td>\n",
       "      <td>News</td>\n",
       "      <td>September 23, 2017</td>\n",
       "      <td>0</td>\n",
       "    </tr>\n",
       "    <tr>\n",
       "      <th>1</th>\n",
       "      <td>New Mexico Is Erasing Actual Science From The...</td>\n",
       "      <td>Education standards,  it seems, is now a term...</td>\n",
       "      <td>News</td>\n",
       "      <td>September 29, 2017</td>\n",
       "      <td>0</td>\n",
       "    </tr>\n",
       "    <tr>\n",
       "      <th>2</th>\n",
       "      <td>In White House Conference Call About Iran, St...</td>\n",
       "      <td>The contrast between the Obama White House and...</td>\n",
       "      <td>News</td>\n",
       "      <td>July 19, 2017</td>\n",
       "      <td>0</td>\n",
       "    </tr>\n",
       "    <tr>\n",
       "      <th>3</th>\n",
       "      <td>Republican Viciously Attacks McCain: Give Me ...</td>\n",
       "      <td>A Republican state senator from Arizona, Kelli...</td>\n",
       "      <td>News</td>\n",
       "      <td>July 22, 2017</td>\n",
       "      <td>0</td>\n",
       "    </tr>\n",
       "    <tr>\n",
       "      <th>4</th>\n",
       "      <td>Japan's Abe: agreed with Trump, Putin on coope...</td>\n",
       "      <td>TOKYO (Reuters) - Japanese Prime Minister Shin...</td>\n",
       "      <td>politicsNews</td>\n",
       "      <td>September 3, 2017</td>\n",
       "      <td>1</td>\n",
       "    </tr>\n",
       "  </tbody>\n",
       "</table>\n",
       "</div>"
      ],
      "text/plain": [
       "                                               title  \\\n",
       "0   Former Director Of National Intelligence Says...   \n",
       "1   New Mexico Is Erasing Actual Science From The...   \n",
       "2   In White House Conference Call About Iran, St...   \n",
       "3   Republican Viciously Attacks McCain: Give Me ...   \n",
       "4  Japan's Abe: agreed with Trump, Putin on coope...   \n",
       "\n",
       "                                                text       subject  \\\n",
       "0  James Clapper, the Director of National Intell...          News   \n",
       "1   Education standards,  it seems, is now a term...          News   \n",
       "2  The contrast between the Obama White House and...          News   \n",
       "3  A Republican state senator from Arizona, Kelli...          News   \n",
       "4  TOKYO (Reuters) - Japanese Prime Minister Shin...  politicsNews   \n",
       "\n",
       "                 date  Label  \n",
       "0  September 23, 2017      0  \n",
       "1  September 29, 2017      0  \n",
       "2       July 19, 2017      0  \n",
       "3       July 22, 2017      0  \n",
       "4  September 3, 2017       1  "
      ]
     },
     "execution_count": 5,
     "metadata": {},
     "output_type": "execute_result"
    }
   ],
   "source": [
    "data = pd.concat([fake.iloc[:2000, :], true.iloc[:2000, :]], axis = 0, ignore_index = True)\n",
    "data = shuffle(data).reset_index(drop = True)\n",
    "print(data.shape)\n",
    "data.head()"
   ]
  },
  {
   "cell_type": "code",
   "execution_count": 6,
   "id": "65b1b859",
   "metadata": {},
   "outputs": [
    {
     "data": {
      "text/html": [
       "<div>\n",
       "<style scoped>\n",
       "    .dataframe tbody tr th:only-of-type {\n",
       "        vertical-align: middle;\n",
       "    }\n",
       "\n",
       "    .dataframe tbody tr th {\n",
       "        vertical-align: top;\n",
       "    }\n",
       "\n",
       "    .dataframe thead th {\n",
       "        text-align: right;\n",
       "    }\n",
       "</style>\n",
       "<table border=\"1\" class=\"dataframe\">\n",
       "  <thead>\n",
       "    <tr style=\"text-align: right;\">\n",
       "      <th></th>\n",
       "      <th>text</th>\n",
       "      <th>Label</th>\n",
       "    </tr>\n",
       "  </thead>\n",
       "  <tbody>\n",
       "    <tr>\n",
       "      <th>0</th>\n",
       "      <td>James Clapper, the Director of National Intell...</td>\n",
       "      <td>0</td>\n",
       "    </tr>\n",
       "    <tr>\n",
       "      <th>1</th>\n",
       "      <td>Education standards,  it seems, is now a term...</td>\n",
       "      <td>0</td>\n",
       "    </tr>\n",
       "    <tr>\n",
       "      <th>2</th>\n",
       "      <td>The contrast between the Obama White House and...</td>\n",
       "      <td>0</td>\n",
       "    </tr>\n",
       "    <tr>\n",
       "      <th>3</th>\n",
       "      <td>A Republican state senator from Arizona, Kelli...</td>\n",
       "      <td>0</td>\n",
       "    </tr>\n",
       "    <tr>\n",
       "      <th>4</th>\n",
       "      <td>TOKYO (Reuters) - Japanese Prime Minister Shin...</td>\n",
       "      <td>1</td>\n",
       "    </tr>\n",
       "  </tbody>\n",
       "</table>\n",
       "</div>"
      ],
      "text/plain": [
       "                                                text  Label\n",
       "0  James Clapper, the Director of National Intell...      0\n",
       "1   Education standards,  it seems, is now a term...      0\n",
       "2  The contrast between the Obama White House and...      0\n",
       "3  A Republican state senator from Arizona, Kelli...      0\n",
       "4  TOKYO (Reuters) - Japanese Prime Minister Shin...      1"
      ]
     },
     "execution_count": 6,
     "metadata": {},
     "output_type": "execute_result"
    }
   ],
   "source": [
    "# Dropping Unnecessary Variables:\n",
    "data.drop(['title', 'subject', 'date'], axis = 1, inplace = True)\n",
    "data.head()"
   ]
  },
  {
   "cell_type": "code",
   "execution_count": 7,
   "id": "d8211bb7",
   "metadata": {},
   "outputs": [
    {
     "data": {
      "text/plain": [
       "'On Sunday, Fox News had a rare moment of clarity and actually decided to share the truth with their viewers, breaking the hearts of Donald Trump voters around the world.As Trump continues to brag and tweet about polls that are biased and inaccurate (while ignoring actual facts), Fox News blasted the failing POTUS  disastrous health care plan and noted that Americans overwhelmingly prefer Obamacare.The poll was taken just a few days ago and states that 50% of Americans approve Obamacare, and only 24% are willing to support a Republican replacement. Some weren t fond of either (13%), but the evidence was clear   the people in this country do not want the GOP to repeal the Affordable Care Act and replace it with one of their death sentences.This poll comes just days after Trump trashed the Republican Party on Twitter, calling out their  failed  health care plan and urging them to make a decision as soon as possible. Trump and the GOP are more desperate than ever for a legislative win, and this poll proves that it s only going to be another humiliating loss for them. Every time the Congressional Budget Office analyzes one of the Republicans  proposals, each version looks worse than the last.Americans are already well aware that many of them (millions, actually) will lose their health care coverage under Trumpcare. For many, the GOP s replacement plan will be life-threatening. Even a good portion of Trump s most loyal supporters are terrified of losing their Obamacare, and have publicly spoken out in favor of keeping the health care bill because they ve benefited so greatly from it.One thing is for sure   when Trump sees what his favorite news channel has just tweeted, he s going to have a colossal meltdown. He relies on Fox News to hide his failures, and this truth bomb isn t going to sit well.Featured image via Jeff J Mitchell  / Getty Images'"
      ]
     },
     "execution_count": 7,
     "metadata": {},
     "output_type": "execute_result"
    }
   ],
   "source": [
    "data.text[9]"
   ]
  },
  {
   "cell_type": "code",
   "execution_count": 8,
   "id": "362dfc21",
   "metadata": {},
   "outputs": [
    {
     "data": {
      "text/html": [
       "<div>\n",
       "<style scoped>\n",
       "    .dataframe tbody tr th:only-of-type {\n",
       "        vertical-align: middle;\n",
       "    }\n",
       "\n",
       "    .dataframe tbody tr th {\n",
       "        vertical-align: top;\n",
       "    }\n",
       "\n",
       "    .dataframe thead th {\n",
       "        text-align: right;\n",
       "    }\n",
       "</style>\n",
       "<table border=\"1\" class=\"dataframe\">\n",
       "  <thead>\n",
       "    <tr style=\"text-align: right;\">\n",
       "      <th></th>\n",
       "      <th>text</th>\n",
       "    </tr>\n",
       "  </thead>\n",
       "  <tbody>\n",
       "    <tr>\n",
       "      <th>0</th>\n",
       "      <td>James Clapper, the Director of National Intell...</td>\n",
       "    </tr>\n",
       "    <tr>\n",
       "      <th>1</th>\n",
       "      <td>Education standards,  it seems, is now a term...</td>\n",
       "    </tr>\n",
       "    <tr>\n",
       "      <th>2</th>\n",
       "      <td>The contrast between the Obama White House and...</td>\n",
       "    </tr>\n",
       "    <tr>\n",
       "      <th>3</th>\n",
       "      <td>A Republican state senator from Arizona, Kelli...</td>\n",
       "    </tr>\n",
       "    <tr>\n",
       "      <th>4</th>\n",
       "      <td>TOKYO (Reuters) - Japanese Prime Minister Shin...</td>\n",
       "    </tr>\n",
       "  </tbody>\n",
       "</table>\n",
       "</div>"
      ],
      "text/plain": [
       "                                                text\n",
       "0  James Clapper, the Director of National Intell...\n",
       "1   Education standards,  it seems, is now a term...\n",
       "2  The contrast between the Obama White House and...\n",
       "3  A Republican state senator from Arizona, Kelli...\n",
       "4  TOKYO (Reuters) - Japanese Prime Minister Shin..."
      ]
     },
     "execution_count": 8,
     "metadata": {},
     "output_type": "execute_result"
    }
   ],
   "source": [
    "# Creating independent & dependent variables:\n",
    "X = data.drop(['Label'], axis = 1)\n",
    "y = data['Label']\n",
    "X.head()"
   ]
  },
  {
   "cell_type": "code",
   "execution_count": 9,
   "id": "c36df3a6",
   "metadata": {},
   "outputs": [
    {
     "data": {
      "text/plain": [
       "0    0\n",
       "1    0\n",
       "2    0\n",
       "3    0\n",
       "4    1\n",
       "Name: Label, dtype: int64"
      ]
     },
     "execution_count": 9,
     "metadata": {},
     "output_type": "execute_result"
    }
   ],
   "source": [
    "y.head()"
   ]
  },
  {
   "cell_type": "code",
   "execution_count": 10,
   "id": "2d98eb78",
   "metadata": {},
   "outputs": [],
   "source": [
    "# Stemming & Removing StopWords:\n",
    "ps = PorterStemmer()\n",
    "corpus = []\n",
    "for i in range(len(X)):\n",
    "    review = re.sub(\"[^a-zA-Z]\", \" \", X[\"text\"][i])\n",
    "# This line of code will process the text data in X[\"text\"][i] by \n",
    "# removing any non-alphabetic characters and replacing them with spaces. \n",
    "    review = review.lower()\n",
    "    review = review.split()\n",
    "    review = [ps.stem(word) for word in review if word not in stopwords.words(\"english\")]\n",
    "    review = \" \".join(review)\n",
    "    corpus.append(review)"
   ]
  },
  {
   "cell_type": "code",
   "execution_count": 11,
   "id": "0a0af906",
   "metadata": {},
   "outputs": [
    {
     "name": "stdout",
     "output_type": "stream",
     "text": [
      "(4000, 5000)\n",
      "(4000,)\n"
     ]
    }
   ],
   "source": [
    "vector = TfidfVectorizer(max_features = 5000, ngram_range = (1, 3))\n",
    "X = vector.fit_transform(corpus).toarray()\n",
    "print(X.shape)\n",
    "print(y.shape)"
   ]
  },
  {
   "cell_type": "markdown",
   "id": "fd055f23",
   "metadata": {},
   "source": [
    "### Model Evaluation:"
   ]
  },
  {
   "cell_type": "code",
   "execution_count": 12,
   "id": "17442909",
   "metadata": {},
   "outputs": [
    {
     "name": "stdout",
     "output_type": "stream",
     "text": [
      "(2800, 5000)\n",
      "(1200, 5000)\n",
      "(2800,)\n",
      "(1200,)\n"
     ]
    }
   ],
   "source": [
    "X_train, X_test, y_train, y_test = train_test_split(X, y, test_size = 0.3, random_state = 42)\n",
    "print(X_train.shape)\n",
    "print(X_test.shape)\n",
    "print(y_train.shape)\n",
    "print(y_test.shape)"
   ]
  },
  {
   "cell_type": "code",
   "execution_count": 13,
   "id": "68301eab",
   "metadata": {},
   "outputs": [
    {
     "name": "stdout",
     "output_type": "stream",
     "text": [
      "Accuracy of the Model: 97.5%\n"
     ]
    }
   ],
   "source": [
    "classifier = MultinomialNB()\n",
    "classifier.fit(X_train, y_train)\n",
    "pred = classifier.predict(X_test)\n",
    "score = metrics.accuracy_score(y_test, pred)\n",
    "print(\"Accuracy of the Model: {}%\".format(score*100))"
   ]
  },
  {
   "cell_type": "code",
   "execution_count": 14,
   "id": "1e7faf0b",
   "metadata": {},
   "outputs": [
    {
     "data": {
      "image/png": "[encoded data removed]",
      "text/plain": [
       "<Figure size 640x480 with 2 Axes>"
      ]
     },
     "metadata": {},
     "output_type": "display_data"
    }
   ],
   "source": [
    "cm = metrics.confusion_matrix(y_test, pred)\n",
    "metrics.plot_confusion_matrix(classifier, X_test, y_test)\n",
    "plt.show()"
   ]
  }
 ],
 "metadata": {
  "kernelspec": {
   "display_name": "Python 3 (ipykernel)",
   "language": "python",
   "name": "python3"
  },
  "language_info": {
   "codemirror_mode": {
    "name": "ipython",
    "version": 3
   },
   "file_extension": ".py",
   "mimetype": "text/x-python",
   "name": "python",
   "nbconvert_exporter": "python",
   "pygments_lexer": "ipython3",
   "version": "3.9.13"
  }
 },
 "nbformat": 4,
 "nbformat_minor": 5
}
