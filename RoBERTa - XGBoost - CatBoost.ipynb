{
 "cells": [
  {
   "cell_type": "markdown",
   "id": "dc86318c",
   "metadata": {},
   "source": [
    "## RoBERTa - XGBoost - CatBoost:\n",
    "\n",
    "RoBERTa is a language representation model based on the transformer architecture and is primarily used in natural language processing (NLP) tasks. XGBoost and CatBoost are gradient boosting algorithms designed for tabular data and structured data, commonly used in machine learning tasks, such as regression and classification.\n",
    "\n",
    "It is possible to utilize RoBERTa embeddings as features in conjunction with XGBoost or CatBoost. This can be achieved by first passing the text data through RoBERTa to obtain dense vector representations (embeddings) for each text sample. These embeddings can then be combined with other numerical or categorical features in the dataset and used as input to XGBoost or CatBoost for further modeling.\n",
    "\n",
    "The process can be summarized as follows:\n",
    " - Preprocess the text data and obtain RoBERTa embeddings for each text sample.\n",
    " - Combine the RoBERTa embeddings with the structured/tabular features in the dataset.\n",
    " - Use the combined feature set as input to XGBoost or CatBoost for training and prediction.\n",
    " \n",
    "This hybrid approach leverages the strengths of both RoBERTa's language representation capabilities and the powerful gradient boosting algorithms like XGBoost or CatBoost for effective modeling on datasets containing a mixture of text and structured features."
   ]
  },
  {
   "cell_type": "code",
   "execution_count": 1,
   "id": "b27a6cc7",
   "metadata": {},
   "outputs": [],
   "source": [
    "import pandas as pd\n",
    "import numpy as np\n",
    "import tensorflow as tf\n",
    "import transformers\n",
    "# transformers is a popular Python library developed by Hugging Face \n",
    "# that provides an easy-to-use interface for working with various \n",
    "# transformer-based models in natural language processing (NLP).\n",
    "import tqdm\n",
    "# tqdm is a Python library that provides a fast, extensible progress bar \n",
    "# for loops and other iterable objects.\n",
    "from keras.preprocessing import sequence\n",
    "# In the context of the Keras library, keras.preprocessing.sequence \n",
    "# provides tools and utilities for sequence-related tasks, especially \n",
    "# for working with text data in natural language processing (NLP). \n",
    "from sklearn.model_selection import train_test_split\n",
    "import warnings\n",
    "warnings.filterwarnings(action='ignore', category = UserWarning)\n",
    "from xgboost import XGBClassifier\n",
    "from sklearn.metrics import accuracy_score, roc_auc_score\n",
    "from sklearn.utils import shuffle\n",
    "from sklearn.metrics import classification_report\n",
    "from catboost import CatBoostClassifier"
   ]
  },
  {
   "cell_type": "code",
   "execution_count": 2,
   "id": "94b98d02",
   "metadata": {},
   "outputs": [
    {
     "data": {
      "text/html": [
       "<div>\n",
       "<style scoped>\n",
       "    .dataframe tbody tr th:only-of-type {\n",
       "        vertical-align: middle;\n",
       "    }\n",
       "\n",
       "    .dataframe tbody tr th {\n",
       "        vertical-align: top;\n",
       "    }\n",
       "\n",
       "    .dataframe thead th {\n",
       "        text-align: right;\n",
       "    }\n",
       "</style>\n",
       "<table border=\"1\" class=\"dataframe\">\n",
       "  <thead>\n",
       "    <tr style=\"text-align: right;\">\n",
       "      <th></th>\n",
       "      <th>title</th>\n",
       "      <th>text</th>\n",
       "      <th>subject</th>\n",
       "      <th>date</th>\n",
       "    </tr>\n",
       "  </thead>\n",
       "  <tbody>\n",
       "    <tr>\n",
       "      <th>0</th>\n",
       "      <td>As U.S. budget fight looms, Republicans flip t...</td>\n",
       "      <td>WASHINGTON (Reuters) - The head of a conservat...</td>\n",
       "      <td>politicsNews</td>\n",
       "      <td>December 31, 2017</td>\n",
       "    </tr>\n",
       "    <tr>\n",
       "      <th>1</th>\n",
       "      <td>U.S. military to accept transgender recruits o...</td>\n",
       "      <td>WASHINGTON (Reuters) - Transgender people will...</td>\n",
       "      <td>politicsNews</td>\n",
       "      <td>December 29, 2017</td>\n",
       "    </tr>\n",
       "    <tr>\n",
       "      <th>2</th>\n",
       "      <td>Senior U.S. Republican senator: 'Let Mr. Muell...</td>\n",
       "      <td>WASHINGTON (Reuters) - The special counsel inv...</td>\n",
       "      <td>politicsNews</td>\n",
       "      <td>December 31, 2017</td>\n",
       "    </tr>\n",
       "    <tr>\n",
       "      <th>3</th>\n",
       "      <td>FBI Russia probe helped by Australian diplomat...</td>\n",
       "      <td>WASHINGTON (Reuters) - Trump campaign adviser ...</td>\n",
       "      <td>politicsNews</td>\n",
       "      <td>December 30, 2017</td>\n",
       "    </tr>\n",
       "    <tr>\n",
       "      <th>4</th>\n",
       "      <td>Trump wants Postal Service to charge 'much mor...</td>\n",
       "      <td>SEATTLE/WASHINGTON (Reuters) - President Donal...</td>\n",
       "      <td>politicsNews</td>\n",
       "      <td>December 29, 2017</td>\n",
       "    </tr>\n",
       "  </tbody>\n",
       "</table>\n",
       "</div>"
      ],
      "text/plain": [
       "                                               title  \\\n",
       "0  As U.S. budget fight looms, Republicans flip t...   \n",
       "1  U.S. military to accept transgender recruits o...   \n",
       "2  Senior U.S. Republican senator: 'Let Mr. Muell...   \n",
       "3  FBI Russia probe helped by Australian diplomat...   \n",
       "4  Trump wants Postal Service to charge 'much mor...   \n",
       "\n",
       "                                                text       subject  \\\n",
       "0  WASHINGTON (Reuters) - The head of a conservat...  politicsNews   \n",
       "1  WASHINGTON (Reuters) - Transgender people will...  politicsNews   \n",
       "2  WASHINGTON (Reuters) - The special counsel inv...  politicsNews   \n",
       "3  WASHINGTON (Reuters) - Trump campaign adviser ...  politicsNews   \n",
       "4  SEATTLE/WASHINGTON (Reuters) - President Donal...  politicsNews   \n",
       "\n",
       "                 date  \n",
       "0  December 31, 2017   \n",
       "1  December 29, 2017   \n",
       "2  December 31, 2017   \n",
       "3  December 30, 2017   \n",
       "4  December 29, 2017   "
      ]
     },
     "execution_count": 2,
     "metadata": {},
     "output_type": "execute_result"
    }
   ],
   "source": [
    "true = pd.read_csv('True.csv')\n",
    "fake = pd.read_csv('Fake.csv')\n",
    "true.head()"
   ]
  },
  {
   "cell_type": "code",
   "execution_count": 3,
   "id": "73f9ecdb",
   "metadata": {},
   "outputs": [
    {
     "data": {
      "text/html": [
       "<div>\n",
       "<style scoped>\n",
       "    .dataframe tbody tr th:only-of-type {\n",
       "        vertical-align: middle;\n",
       "    }\n",
       "\n",
       "    .dataframe tbody tr th {\n",
       "        vertical-align: top;\n",
       "    }\n",
       "\n",
       "    .dataframe thead th {\n",
       "        text-align: right;\n",
       "    }\n",
       "</style>\n",
       "<table border=\"1\" class=\"dataframe\">\n",
       "  <thead>\n",
       "    <tr style=\"text-align: right;\">\n",
       "      <th></th>\n",
       "      <th>title</th>\n",
       "      <th>text</th>\n",
       "      <th>subject</th>\n",
       "      <th>date</th>\n",
       "    </tr>\n",
       "  </thead>\n",
       "  <tbody>\n",
       "    <tr>\n",
       "      <th>0</th>\n",
       "      <td>Donald Trump Sends Out Embarrassing New Year’...</td>\n",
       "      <td>Donald Trump just couldn t wish all Americans ...</td>\n",
       "      <td>News</td>\n",
       "      <td>December 31, 2017</td>\n",
       "    </tr>\n",
       "    <tr>\n",
       "      <th>1</th>\n",
       "      <td>Drunk Bragging Trump Staffer Started Russian ...</td>\n",
       "      <td>House Intelligence Committee Chairman Devin Nu...</td>\n",
       "      <td>News</td>\n",
       "      <td>December 31, 2017</td>\n",
       "    </tr>\n",
       "    <tr>\n",
       "      <th>2</th>\n",
       "      <td>Sheriff David Clarke Becomes An Internet Joke...</td>\n",
       "      <td>On Friday, it was revealed that former Milwauk...</td>\n",
       "      <td>News</td>\n",
       "      <td>December 30, 2017</td>\n",
       "    </tr>\n",
       "    <tr>\n",
       "      <th>3</th>\n",
       "      <td>Trump Is So Obsessed He Even Has Obama’s Name...</td>\n",
       "      <td>On Christmas day, Donald Trump announced that ...</td>\n",
       "      <td>News</td>\n",
       "      <td>December 29, 2017</td>\n",
       "    </tr>\n",
       "    <tr>\n",
       "      <th>4</th>\n",
       "      <td>Pope Francis Just Called Out Donald Trump Dur...</td>\n",
       "      <td>Pope Francis used his annual Christmas Day mes...</td>\n",
       "      <td>News</td>\n",
       "      <td>December 25, 2017</td>\n",
       "    </tr>\n",
       "  </tbody>\n",
       "</table>\n",
       "</div>"
      ],
      "text/plain": [
       "                                               title  \\\n",
       "0   Donald Trump Sends Out Embarrassing New Year’...   \n",
       "1   Drunk Bragging Trump Staffer Started Russian ...   \n",
       "2   Sheriff David Clarke Becomes An Internet Joke...   \n",
       "3   Trump Is So Obsessed He Even Has Obama’s Name...   \n",
       "4   Pope Francis Just Called Out Donald Trump Dur...   \n",
       "\n",
       "                                                text subject  \\\n",
       "0  Donald Trump just couldn t wish all Americans ...    News   \n",
       "1  House Intelligence Committee Chairman Devin Nu...    News   \n",
       "2  On Friday, it was revealed that former Milwauk...    News   \n",
       "3  On Christmas day, Donald Trump announced that ...    News   \n",
       "4  Pope Francis used his annual Christmas Day mes...    News   \n",
       "\n",
       "                date  \n",
       "0  December 31, 2017  \n",
       "1  December 31, 2017  \n",
       "2  December 30, 2017  \n",
       "3  December 29, 2017  \n",
       "4  December 25, 2017  "
      ]
     },
     "execution_count": 3,
     "metadata": {},
     "output_type": "execute_result"
    }
   ],
   "source": [
    "fake.head()"
   ]
  },
  {
   "cell_type": "code",
   "execution_count": 4,
   "id": "703b6c07",
   "metadata": {},
   "outputs": [
    {
     "name": "stdout",
     "output_type": "stream",
     "text": [
      "(44898, 5)\n"
     ]
    },
    {
     "data": {
      "text/html": [
       "<div>\n",
       "<style scoped>\n",
       "    .dataframe tbody tr th:only-of-type {\n",
       "        vertical-align: middle;\n",
       "    }\n",
       "\n",
       "    .dataframe tbody tr th {\n",
       "        vertical-align: top;\n",
       "    }\n",
       "\n",
       "    .dataframe thead th {\n",
       "        text-align: right;\n",
       "    }\n",
       "</style>\n",
       "<table border=\"1\" class=\"dataframe\">\n",
       "  <thead>\n",
       "    <tr style=\"text-align: right;\">\n",
       "      <th></th>\n",
       "      <th>title</th>\n",
       "      <th>text</th>\n",
       "      <th>subject</th>\n",
       "      <th>date</th>\n",
       "      <th>Label</th>\n",
       "    </tr>\n",
       "  </thead>\n",
       "  <tbody>\n",
       "    <tr>\n",
       "      <th>0</th>\n",
       "      <td>Bahrain's king issues decree reorganizing Nati...</td>\n",
       "      <td>DUBAI (Reuters) - Bahrain s King Hamad bin Isa...</td>\n",
       "      <td>worldnews</td>\n",
       "      <td>September 12, 2017</td>\n",
       "      <td>1</td>\n",
       "    </tr>\n",
       "    <tr>\n",
       "      <th>1</th>\n",
       "      <td>GOP Cut Funds For Veterans And Mental Health ...</td>\n",
       "      <td>Republicans claim to love our military veteran...</td>\n",
       "      <td>News</td>\n",
       "      <td>February 23, 2016</td>\n",
       "      <td>0</td>\n",
       "    </tr>\n",
       "    <tr>\n",
       "      <th>2</th>\n",
       "      <td>Maine Voters Tell Trump To Go F*ck Himself, E...</td>\n",
       "      <td>Republicans should be downright afraid to try ...</td>\n",
       "      <td>News</td>\n",
       "      <td>November 8, 2017</td>\n",
       "      <td>0</td>\n",
       "    </tr>\n",
       "    <tr>\n",
       "      <th>3</th>\n",
       "      <td>Swastika-Covered Guy Gets Punched In The Face...</td>\n",
       "      <td>One Nazi made the mistake of leaving his  safe...</td>\n",
       "      <td>News</td>\n",
       "      <td>October 20, 2017</td>\n",
       "      <td>0</td>\n",
       "    </tr>\n",
       "    <tr>\n",
       "      <th>4</th>\n",
       "      <td>NEW VIDEO…ANTIFA Terror Group INFILTRATED…Tran...</td>\n",
       "      <td>Steven Crowder is an amazing and ALWAYS unafra...</td>\n",
       "      <td>politics</td>\n",
       "      <td>Sep 29, 2017</td>\n",
       "      <td>0</td>\n",
       "    </tr>\n",
       "  </tbody>\n",
       "</table>\n",
       "</div>"
      ],
      "text/plain": [
       "                                               title  \\\n",
       "0  Bahrain's king issues decree reorganizing Nati...   \n",
       "1   GOP Cut Funds For Veterans And Mental Health ...   \n",
       "2   Maine Voters Tell Trump To Go F*ck Himself, E...   \n",
       "3   Swastika-Covered Guy Gets Punched In The Face...   \n",
       "4  NEW VIDEO…ANTIFA Terror Group INFILTRATED…Tran...   \n",
       "\n",
       "                                                text    subject  \\\n",
       "0  DUBAI (Reuters) - Bahrain s King Hamad bin Isa...  worldnews   \n",
       "1  Republicans claim to love our military veteran...       News   \n",
       "2  Republicans should be downright afraid to try ...       News   \n",
       "3  One Nazi made the mistake of leaving his  safe...       News   \n",
       "4  Steven Crowder is an amazing and ALWAYS unafra...   politics   \n",
       "\n",
       "                  date  Label  \n",
       "0  September 12, 2017       1  \n",
       "1    February 23, 2016      0  \n",
       "2     November 8, 2017      0  \n",
       "3     October 20, 2017      0  \n",
       "4         Sep 29, 2017      0  "
      ]
     },
     "execution_count": 4,
     "metadata": {},
     "output_type": "execute_result"
    }
   ],
   "source": [
    "fake['Label'] = 0\n",
    "true['Label'] = 1\n",
    "df = pd.concat([fake, true], ignore_index = True, sort = False)\n",
    "df = shuffle(df).reset_index(drop = True)\n",
    "print(df.shape)\n",
    "df.head()"
   ]
  },
  {
   "cell_type": "code",
   "execution_count": 5,
   "id": "8b9684c3",
   "metadata": {},
   "outputs": [
    {
     "name": "stdout",
     "output_type": "stream",
     "text": [
      "Number of Duplicates: 209\n",
      "(44689, 5)\n"
     ]
    }
   ],
   "source": [
    "# Calculate & Delete the duplicates:\n",
    "print(\"Number of Duplicates:\", df.duplicated().sum())\n",
    "df.drop_duplicates(inplace = True)\n",
    "print(df.shape)"
   ]
  },
  {
   "cell_type": "markdown",
   "id": "f27d5b69",
   "metadata": {},
   "source": [
    "### Tokenizer Function:"
   ]
  },
  {
   "cell_type": "code",
   "execution_count": 6,
   "id": "7110b6ff",
   "metadata": {},
   "outputs": [
    {
     "name": "stderr",
     "output_type": "stream",
     "text": [
      "converting documents to features: 100%|██████████| 35751/35751 [02:06<00:00, 281.88it/s]\n",
      "converting documents to features: 100%|██████████| 8938/8938 [00:30<00:00, 292.34it/s]\n"
     ]
    }
   ],
   "source": [
    "def func_tokenizer(tokenizer_name, docs):\n",
    "    features = []\n",
    "    for doc in tqdm.tqdm(docs, desc = 'converting documents to features'):\n",
    "        tokens = tokenizer_name.tokenize(doc)\n",
    "        ids = tokenizer_name.convert_tokens_to_ids(tokens)\n",
    "        features.append(ids)\n",
    "    return features\n",
    "\n",
    "X = df['text']\n",
    "y = df['Label']\n",
    "X_train, X_test, y_train, y_test = train_test_split(X, y, test_size=0.2, random_state=42)\n",
    "\n",
    "# Initialize BERT Tokenizer:\n",
    "roberta_tokenizer = transformers.RobertaTokenizer.from_pretrained('roberta-base-openai-detector')\n",
    "roberta_train_features = func_tokenizer(roberta_tokenizer, X_train)\n",
    "roberta_test_features = func_tokenizer(roberta_tokenizer, X_test)\n",
    "\n",
    "roberta_trg = tf.keras.preprocessing.sequence.pad_sequences(roberta_train_features, maxlen = 500)\n",
    "roberta_test = tf.keras.preprocessing.sequence.pad_sequences(roberta_test_features, maxlen = 500)"
   ]
  },
  {
   "cell_type": "markdown",
   "id": "3bc938d0",
   "metadata": {},
   "source": [
    "### XGBoost Classifier:"
   ]
  },
  {
   "cell_type": "code",
   "execution_count": 7,
   "id": "eae63646",
   "metadata": {},
   "outputs": [
    {
     "data": {
      "text/plain": [
       "XGBClassifier(base_score=None, booster=None, callbacks=None,\n",
       "              colsample_bylevel=None, colsample_bynode=None,\n",
       "              colsample_bytree=None, early_stopping_rounds=None,\n",
       "              enable_categorical=False, eval_metric='auc', feature_types=None,\n",
       "              gamma=None, gpu_id=None, grow_policy=None, importance_type=None,\n",
       "              interaction_constraints=None, learning_rate=0.15, max_bin=None,\n",
       "              max_cat_threshold=None, max_cat_to_onehot=None,\n",
       "              max_delta_step=None, max_depth=9, max_leaves=None,\n",
       "              min_child_weight=None, missing=nan, monotone_constraints=None,\n",
       "              n_estimators=1000, n_jobs=None, num_parallel_tree=None,\n",
       "              predictor=None, random_state=None, ...)"
      ]
     },
     "execution_count": 7,
     "metadata": {},
     "output_type": "execute_result"
    }
   ],
   "source": [
    "xgb = XGBClassifier(n_estimators = 1000, learning_rate = 0.15, max_depth = 9,\n",
    "                    eval_metric = 'auc', use_label_encoder=False, objective = 'binary:logistic')\n",
    "xgb.fit(roberta_trg, y_train)"
   ]
  },
  {
   "cell_type": "code",
   "execution_count": 8,
   "id": "b17f8e06",
   "metadata": {},
   "outputs": [
    {
     "name": "stdout",
     "output_type": "stream",
     "text": [
      "The accuracy of XGBoost: 98.15394942940256 %\n",
      "The roc_auc score of XGBoost: 98.21985327692802 %\n"
     ]
    }
   ],
   "source": [
    "xgb_pred = xgb.predict(roberta_test)\n",
    "xgb_score = accuracy_score(y_test, xgb_pred)\n",
    "xgb_roc = roc_auc_score(y_test, xgb_pred)\n",
    "print(\"The accuracy of XGBoost: {} %\".format(xgb_score*100))\n",
    "print(\"The roc_auc score of XGBoost: {} %\".format(xgb_roc*100))"
   ]
  },
  {
   "cell_type": "code",
   "execution_count": 9,
   "id": "fee95feb",
   "metadata": {},
   "outputs": [
    {
     "name": "stdout",
     "output_type": "stream",
     "text": [
      "              precision    recall  f1-score   support\n",
      "\n",
      "           0       0.99      0.97      0.98      4792\n",
      "           1       0.97      0.99      0.98      4146\n",
      "\n",
      "    accuracy                           0.98      8938\n",
      "   macro avg       0.98      0.98      0.98      8938\n",
      "weighted avg       0.98      0.98      0.98      8938\n",
      "\n"
     ]
    }
   ],
   "source": [
    "cr = classification_report(y_test, xgb_pred)\n",
    "print(cr)"
   ]
  },
  {
   "cell_type": "markdown",
   "id": "cc578880",
   "metadata": {},
   "source": [
    "### CatBoost Classifier:"
   ]
  },
  {
   "cell_type": "code",
   "execution_count": 10,
   "id": "39aa3a71",
   "metadata": {},
   "outputs": [
    {
     "name": "stdout",
     "output_type": "stream",
     "text": [
      "The accuracy of CatBoost: 98.07563213246812 %\n",
      "The roc_auc score of CatBoost: 98.13543456009253 %\n"
     ]
    }
   ],
   "source": [
    "cb = CatBoostClassifier(eval_metric = 'Accuracy', iterations = 2000, learning_rate = 0.2)\n",
    "cb.fit(roberta_trg, y_train, verbose = 0)\n",
    "cb_pred = cb.predict(roberta_test)\n",
    "cb_score = accuracy_score(y_test, cb_pred)\n",
    "cb_roc = roc_auc_score(y_test, cb_pred)\n",
    "print(\"The accuracy of CatBoost: {} %\".format(cb_score*100))\n",
    "print(\"The roc_auc score of CatBoost: {} %\".format(cb_roc*100))"
   ]
  },
  {
   "cell_type": "code",
   "execution_count": 11,
   "id": "56fa9d1d",
   "metadata": {},
   "outputs": [
    {
     "name": "stdout",
     "output_type": "stream",
     "text": [
      "              precision    recall  f1-score   support\n",
      "\n",
      "           0       0.99      0.97      0.98      4792\n",
      "           1       0.97      0.99      0.98      4146\n",
      "\n",
      "    accuracy                           0.98      8938\n",
      "   macro avg       0.98      0.98      0.98      8938\n",
      "weighted avg       0.98      0.98      0.98      8938\n",
      "\n"
     ]
    }
   ],
   "source": [
    "cr2 = classification_report(y_test, cb_pred)\n",
    "print(cr2)"
   ]
  }
 ],
 "metadata": {
  "kernelspec": {
   "display_name": "Python 3 (ipykernel)",
   "language": "python",
   "name": "python3"
  },
  "language_info": {
   "codemirror_mode": {
    "name": "ipython",
    "version": 3
   },
   "file_extension": ".py",
   "mimetype": "text/x-python",
   "name": "python",
   "nbconvert_exporter": "python",
   "pygments_lexer": "ipython3",
   "version": "3.9.13"
  }
 },
 "nbformat": 4,
 "nbformat_minor": 5
}
